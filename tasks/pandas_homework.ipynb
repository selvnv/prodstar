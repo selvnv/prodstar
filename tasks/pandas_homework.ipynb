{
 "cells": [
  {
   "cell_type": "markdown",
   "id": "54f578f3-52cb-4a24-aa90-abf969c80b68",
   "metadata": {},
   "source": [
    "## Описание колонок\n",
    "\n",
    "`Rank` - Общий рейтинг продаж\n",
    "\n",
    "`Name` - Название игры\n",
    "\n",
    "`Platform` - Платформа, на которой выпущена игра (например, PC, PS4 и т.д.)\n",
    "\n",
    "`Year` - Год выпуска игры\n",
    "\n",
    "`Genre` - Жанр игры\n",
    "\n",
    "`Publisher` - Издатель игры\n",
    "\n",
    "`NA_Sales` - Продажи в Северной Америке (в миллионах)\n",
    "\n",
    "`EU_Sales` - Продажи в Европе (в миллионах)\n",
    "\n",
    "`JP_Sales` - Продажи в Японии (в миллионах)\n",
    "\n",
    "`Other_Sales` - Продажи в остальном мире (в миллионах)\n",
    "\n",
    "`Global_Sales` - Общемировые продажи."
   ]
  },
  {
   "cell_type": "code",
   "execution_count": 1,
   "id": "59bc965d-2d42-4fcd-9da9-2a12724b65ed",
   "metadata": {},
   "outputs": [
    {
     "data": {
      "text/html": [
       "<div>\n",
       "<style scoped>\n",
       "    .dataframe tbody tr th:only-of-type {\n",
       "        vertical-align: middle;\n",
       "    }\n",
       "\n",
       "    .dataframe tbody tr th {\n",
       "        vertical-align: top;\n",
       "    }\n",
       "\n",
       "    .dataframe thead th {\n",
       "        text-align: right;\n",
       "    }\n",
       "</style>\n",
       "<table border=\"1\" class=\"dataframe\">\n",
       "  <thead>\n",
       "    <tr style=\"text-align: right;\">\n",
       "      <th></th>\n",
       "      <th>Rank</th>\n",
       "      <th>Name</th>\n",
       "      <th>Platform</th>\n",
       "      <th>Year</th>\n",
       "      <th>Genre</th>\n",
       "      <th>Publisher</th>\n",
       "      <th>NA_Sales</th>\n",
       "      <th>EU_Sales</th>\n",
       "      <th>JP_Sales</th>\n",
       "      <th>Other_Sales</th>\n",
       "      <th>Global_Sales</th>\n",
       "    </tr>\n",
       "  </thead>\n",
       "  <tbody>\n",
       "    <tr>\n",
       "      <th>0</th>\n",
       "      <td>1</td>\n",
       "      <td>Wii Sports</td>\n",
       "      <td>Wii</td>\n",
       "      <td>2006.0</td>\n",
       "      <td>Sports</td>\n",
       "      <td>Nintendo</td>\n",
       "      <td>41.49</td>\n",
       "      <td>29.02</td>\n",
       "      <td>3.77</td>\n",
       "      <td>8.46</td>\n",
       "      <td>82.74</td>\n",
       "    </tr>\n",
       "    <tr>\n",
       "      <th>1</th>\n",
       "      <td>2</td>\n",
       "      <td>Super Mario Bros.</td>\n",
       "      <td>NES</td>\n",
       "      <td>1985.0</td>\n",
       "      <td>Platform</td>\n",
       "      <td>Nintendo</td>\n",
       "      <td>29.08</td>\n",
       "      <td>3.58</td>\n",
       "      <td>6.81</td>\n",
       "      <td>0.77</td>\n",
       "      <td>40.24</td>\n",
       "    </tr>\n",
       "    <tr>\n",
       "      <th>2</th>\n",
       "      <td>3</td>\n",
       "      <td>Mario Kart Wii</td>\n",
       "      <td>Wii</td>\n",
       "      <td>2008.0</td>\n",
       "      <td>Racing</td>\n",
       "      <td>Nintendo</td>\n",
       "      <td>15.85</td>\n",
       "      <td>12.88</td>\n",
       "      <td>3.79</td>\n",
       "      <td>3.31</td>\n",
       "      <td>35.82</td>\n",
       "    </tr>\n",
       "    <tr>\n",
       "      <th>3</th>\n",
       "      <td>4</td>\n",
       "      <td>Wii Sports Resort</td>\n",
       "      <td>Wii</td>\n",
       "      <td>2009.0</td>\n",
       "      <td>Sports</td>\n",
       "      <td>Nintendo</td>\n",
       "      <td>15.75</td>\n",
       "      <td>11.01</td>\n",
       "      <td>3.28</td>\n",
       "      <td>2.96</td>\n",
       "      <td>33.00</td>\n",
       "    </tr>\n",
       "    <tr>\n",
       "      <th>4</th>\n",
       "      <td>5</td>\n",
       "      <td>Pokemon Red/Pokemon Blue</td>\n",
       "      <td>GB</td>\n",
       "      <td>1996.0</td>\n",
       "      <td>Role-Playing</td>\n",
       "      <td>Nintendo</td>\n",
       "      <td>11.27</td>\n",
       "      <td>8.89</td>\n",
       "      <td>10.22</td>\n",
       "      <td>1.00</td>\n",
       "      <td>31.37</td>\n",
       "    </tr>\n",
       "  </tbody>\n",
       "</table>\n",
       "</div>"
      ],
      "text/plain": [
       "   Rank                      Name Platform    Year         Genre Publisher  \\\n",
       "0     1                Wii Sports      Wii  2006.0        Sports  Nintendo   \n",
       "1     2         Super Mario Bros.      NES  1985.0      Platform  Nintendo   \n",
       "2     3            Mario Kart Wii      Wii  2008.0        Racing  Nintendo   \n",
       "3     4         Wii Sports Resort      Wii  2009.0        Sports  Nintendo   \n",
       "4     5  Pokemon Red/Pokemon Blue       GB  1996.0  Role-Playing  Nintendo   \n",
       "\n",
       "   NA_Sales  EU_Sales  JP_Sales  Other_Sales  Global_Sales  \n",
       "0     41.49     29.02      3.77         8.46         82.74  \n",
       "1     29.08      3.58      6.81         0.77         40.24  \n",
       "2     15.85     12.88      3.79         3.31         35.82  \n",
       "3     15.75     11.01      3.28         2.96         33.00  \n",
       "4     11.27      8.89     10.22         1.00         31.37  "
      ]
     },
     "execution_count": 1,
     "metadata": {},
     "output_type": "execute_result"
    }
   ],
   "source": [
    "import pandas as pd\n",
    "\n",
    "# загрузите датасет\n",
    "df = pd.read_csv('../resources/datasets/vgsales.csv')  # ваш код здесь\n",
    "\n",
    "# после того датасет корректно загрузился, можно посмотреть на данные глазами\n",
    "df.head()"
   ]
  },
  {
   "cell_type": "markdown",
   "id": "f93e6f75-3421-43a7-bdd2-3f3ee5d4e1e3",
   "metadata": {},
   "source": [
    "### Дальше идут вопросы по датасету, на которые нужно найти ответ используя функционал библиотеки Pandas."
   ]
  },
  {
   "cell_type": "markdown",
   "id": "a71de13a-bf5f-48d5-8e9d-18332a5835b9",
   "metadata": {},
   "source": [
    "вопрос 1: Найдите количество уникальных игр в датасете.\n",
    "\n",
    "*note*: обратите внимание на функции unique, nunique в Pandas\n",
    "\n",
    "оригинал - https://pandas.pydata.org/docs/reference/api/pandas.unique.html\n",
    "\n",
    "на русском - https://runebook.dev/ru/docs/pandas/reference/api/pandas.unique"
   ]
  },
  {
   "cell_type": "code",
   "execution_count": 3,
   "id": "d43ca067-8dba-47ce-a52c-a0a866438ce8",
   "metadata": {},
   "outputs": [
    {
     "name": "stdout",
     "output_type": "stream",
     "text": [
      "<class 'pandas.core.frame.DataFrame'>\n",
      "RangeIndex: 16598 entries, 0 to 16597\n",
      "Data columns (total 11 columns):\n",
      " #   Column        Non-Null Count  Dtype  \n",
      "---  ------        --------------  -----  \n",
      " 0   Rank          16598 non-null  int64  \n",
      " 1   Name          16598 non-null  object \n",
      " 2   Platform      16598 non-null  object \n",
      " 3   Year          16327 non-null  float64\n",
      " 4   Genre         16598 non-null  object \n",
      " 5   Publisher     16540 non-null  object \n",
      " 6   NA_Sales      16598 non-null  float64\n",
      " 7   EU_Sales      16598 non-null  float64\n",
      " 8   JP_Sales      16598 non-null  float64\n",
      " 9   Other_Sales   16598 non-null  float64\n",
      " 10  Global_Sales  16598 non-null  float64\n",
      "dtypes: float64(6), int64(1), object(4)\n",
      "memory usage: 1.4+ MB\n"
     ]
    }
   ],
   "source": [
    "# ваш код здесь\n",
    "df.info()"
   ]
  },
  {
   "cell_type": "markdown",
   "id": "fa8025a5-b6bb-4eec-92cd-a341b583e46f",
   "metadata": {},
   "source": [
    "вопрос 2: Какова общая величина продаж игр в Японии?"
   ]
  },
  {
   "cell_type": "code",
   "execution_count": 2,
   "id": "04440e2c-65cb-4ded-abd8-0b695fc68811",
   "metadata": {},
   "outputs": [],
   "source": [
    "# ваш код здесь\n"
   ]
  },
  {
   "cell_type": "markdown",
   "id": "a2262e1d-9b80-4ac0-852c-9bb0d567bff0",
   "metadata": {},
   "source": [
    "вопрос 3: Какие три жанра игр самые популярные в Северной Америке (по количеству продаж)? "
   ]
  },
  {
   "cell_type": "code",
   "execution_count": 3,
   "id": "8b9e27f2-98d2-40c6-95ab-1d9a8e1a082f",
   "metadata": {},
   "outputs": [],
   "source": [
    "# ваш код здесь\n"
   ]
  },
  {
   "cell_type": "markdown",
   "id": "4b880d2e-3b2a-4516-a11b-3fac6649519c",
   "metadata": {},
   "source": [
    "вопрос 4: Какая платформа была самой популярной (по количеству выпущенных игр) в 2000 году? А в 2015?"
   ]
  },
  {
   "cell_type": "code",
   "execution_count": 4,
   "id": "8d4ce573-99fe-401d-9514-7f3b44823417",
   "metadata": {},
   "outputs": [],
   "source": [
    "# ваш код здесь\n"
   ]
  },
  {
   "cell_type": "markdown",
   "id": "8793a5ae-b540-4cc3-b45b-154f43215a10",
   "metadata": {},
   "source": [
    "вопрос 5: Какой издатель выпустил больше всего игр в период 2012-2015 оба конца включительно?"
   ]
  },
  {
   "cell_type": "code",
   "execution_count": 5,
   "id": "5ee597b8-819c-4e8d-a101-2ddd971cd5fe",
   "metadata": {},
   "outputs": [],
   "source": [
    "# ваш код здесь\n"
   ]
  },
  {
   "cell_type": "markdown",
   "id": "d86e2a2b-f244-4e56-996c-457909f910ef",
   "metadata": {},
   "source": [
    "вопрос 6: Какой процент игр в жанре спорт был продан в Европе?"
   ]
  },
  {
   "cell_type": "code",
   "execution_count": null,
   "id": "d4dcc386-d377-434d-9270-d24a061f233b",
   "metadata": {},
   "outputs": [],
   "source": [
    "# ваш код здесь\n"
   ]
  }
 ],
 "metadata": {
  "kernelspec": {
   "display_name": "Python 3",
   "language": "python",
   "name": "python3"
  },
  "language_info": {
   "codemirror_mode": {
    "name": "ipython",
    "version": 3
   },
   "file_extension": ".py",
   "mimetype": "text/x-python",
   "name": "python",
   "nbconvert_exporter": "python",
   "pygments_lexer": "ipython3",
   "version": "3.12.4"
  }
 },
 "nbformat": 4,
 "nbformat_minor": 5
}
