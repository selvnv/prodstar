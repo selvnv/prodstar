{
 "cells": [
  {
   "cell_type": "markdown",
   "id": "66adc218-1990-4bc6-a229-d98f0a3a8744",
   "metadata": {
    "tags": []
   },
   "source": [
    "# Воркшоп \"обработка ошибок во внешних модулях\"\n",
    "\n",
    "В данном воркшопе познакомимся с обработкой исключений, которые приходят из подключаемых модулей\n",
    "\n",
    "> В теоретической части урока данная тема была практически не освещена, однако принципы обработки исключений общие"
   ]
  },
  {
   "cell_type": "markdown",
   "id": "0c51c94b-1d68-4248-ac73-f9f7b577747a",
   "metadata": {
    "tags": []
   },
   "source": [
    "## Подключение модулей\n",
    "В данном воркшопе нам понадобится только модуль requests \n",
    "\n",
    "> Документация модуля: https://requests.readthedocs.io/en/latest/"
   ]
  },
  {
   "cell_type": "code",
   "execution_count": 19,
   "id": "a2aa9cf1-7510-4fda-b2de-f459ff9ce9ea",
   "metadata": {},
   "outputs": [],
   "source": [
    "import requests\n",
    "from requests.exceptions import HTTPError, ReadTimeout"
   ]
  },
  {
   "cell_type": "markdown",
   "id": "21d7235f-78ea-4a80-b588-100e89b3b4d7",
   "metadata": {},
   "source": [
    "## Функция для отправки запросов\n",
    "Функция send_request предназначена для отправки запросов на сайт https://httpstat.us/, который возвращает в ответ HTTP-код, указанный в URL\n",
    "\n",
    ">Возможные HTTP-коды https://developer.mozilla.org/ru/docs/Web/HTTP/Status\n",
    "\n",
    "В данном примере мы используем этот сайт, чтобы наглядно научиться обрабатывать исключения от модуля, потому что иначе смоделировать ответы с кодом, отличающимся от 200 - довольно проблематично"
   ]
  },
  {
   "cell_type": "code",
   "execution_count": 20,
   "id": "af3d68e9-21cc-4ea9-8a6c-7d3e2f2a55eb",
   "metadata": {},
   "outputs": [],
   "source": [
    "# На вход принимаем нужный http-код, по умолчанию - 200 (Нормальное завершение запроса)\n",
    "def send_request(status_code=200):\n",
    "    \n",
    "    # Функция requests.get отправляет GET-запрос по указанному URL и возвращает ответ\n",
    "    # Таймаут по истечении 5 секунд при выполнении некорректного запроса\n",
    "    response = requests.get(\"https://httpstat.us/{}\".format(status_code), timeout=5)\n",
    "    \n",
    "    # По-умолчанию библиотека requests не выбрасывает исключения при кодах, означающих ошибку\n",
    "    # исключение нужно вызвать самому при помощи функции raise_for_status\n",
    "    response.raise_for_status()\n",
    "    \n",
    "    # Возвращаем код ответа\n",
    "    return response.status_code"
   ]
  },
  {
   "cell_type": "markdown",
   "id": "844ef8eb-05fc-4fe6-8a04-ffe120099451",
   "metadata": {},
   "source": [
    "## Считывание ввода пользователя\n",
    "\n",
    "В данном блоке мы читаем код от пользователя, преобразуя его в **int**, так как функция **send_request** умеет работать только с **int**\n",
    "\n",
    "**input** - функция для чтения ввода от пользователя, в аргументе ей передаётся текст, который будет выведен на экран как предложение ввода\n",
    "\n",
    "> Документация функции input: https://docs.python.org/3/library/functions.html#input"
   ]
  },
  {
   "cell_type": "code",
   "execution_count": 23,
   "id": "5b0a424a-fcae-4249-b043-d95a8cabbafc",
   "metadata": {},
   "outputs": [],
   "source": [
    "# Читаем ввод пользователя и преобразуем строку из input в int\n",
    "\n",
    "while(True):\n",
    "    try:\n",
    "        code = int(input(\"Введите http код для проверки >\"))\n",
    "        break\n",
    "    except ValueError as ex:\n",
    "        print(\"Введено неверное значение. Попробуйте еще раз.\")\n",
    "\n",
    "# print(code)"
   ]
  },
  {
   "cell_type": "markdown",
   "id": "956d03da-6803-41fa-a34f-aea9af87bd68",
   "metadata": {},
   "source": [
    "## Вызов функции и обработка её ответа\n",
    "В данном блоке мы вызываем нашу функцию **send_request** с вводом, полученным от пользователя\n",
    "\n",
    "Для демонстрации обработки исключений - добавляем обработчик **HTTPError** (исключение, которое вызывается функцией **raise_for_status**)\n",
    "\n",
    "В блоке **finally** в любом случае выводим полученный код"
   ]
  },
  {
   "cell_type": "code",
   "execution_count": 24,
   "id": "ac4f9d99-245c-4b07-828b-9bf8d2233428",
   "metadata": {},
   "outputs": [
    {
     "name": "stdout",
     "output_type": "stream",
     "text": [
      "Произошла ошибка при отправке HTTP-запроса. Время ответа истекло: HTTPSConnectionPool(host='httpstat.us', port=443): Read timed out. (read timeout=5)\n",
      "Получен код:\n",
      "None\n"
     ]
    }
   ],
   "source": [
    "# Задаём response_code в None, чтобы к блоку finally он в любом случае был задан\n",
    "response_code = None\n",
    "try:\n",
    "    # Отправляем запрос и получаем ответ\n",
    "    response_code = send_request(code)\n",
    "    \n",
    "# Обработаем HTTPError https://requests.readthedocs.io/en/latest/api/#requests.HTTPError\n",
    "except HTTPError as ex:\n",
    "    # Выводим текст ошибки\n",
    "    print(\"Произошла ошибка при отправке HTTP-запроса: {}\".format(str(ex)))\n",
    "    \n",
    "    # Меняем переменную response_code\n",
    "    response_code = ex.response.status_code\n",
    "except ReadTimeout as ex:\n",
    "    print(\"Произошла ошибка при отправке HTTP-запроса. Время ответа истекло: {}\".format(str(ex)))\n",
    "finally:\n",
    "    print(\"Получен код:\")\n",
    "    # Выводим на экран response_code\n",
    "    print(response_code)"
   ]
  },
  {
   "cell_type": "code",
   "execution_count": null,
   "id": "6495bf42-2cb6-4820-a557-8f0784926c49",
   "metadata": {},
   "outputs": [],
   "source": []
  }
 ],
 "metadata": {
  "kernelspec": {
   "display_name": "Python 3 (ipykernel)",
   "language": "python",
   "name": "python3"
  },
  "language_info": {
   "codemirror_mode": {
    "name": "ipython",
    "version": 3
   },
   "file_extension": ".py",
   "mimetype": "text/x-python",
   "name": "python",
   "nbconvert_exporter": "python",
   "pygments_lexer": "ipython3",
   "version": "3.12.4"
  }
 },
 "nbformat": 4,
 "nbformat_minor": 5
}
