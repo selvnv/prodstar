{
 "cells": [
  {
   "cell_type": "markdown",
   "id": "c23dc0a1",
   "metadata": {},
   "source": [
    "# Воркшоп\n",
    "\n",
    "Вектор — это массив из чисел.\n",
    "\n",
    "Разреженный вектор — это массив, в котором большое количество элементов равны 0.\n",
    "\n",
    "Скалярное произведение двух векторов — это сумма произведений их элементов с одинаковыми индексами, например:\n",
    "```\n",
    "a = [1, 2, 3]\n",
    "b = [4, 5, 6]\n",
    "scalar(a, b) = 1*4 + 2*5 + 3*6 = 32\n",
    "```\n",
    "\n",
    "## Задача\n",
    "Напишите класс, который реализует эффективное хранилище для разреженных векторов и реализуйте операцию скалярного умножения."
   ]
  },
  {
   "cell_type": "code",
   "execution_count": 11,
   "id": "4e688259",
   "metadata": {},
   "outputs": [],
   "source": [
    "class SparseVector:\n",
    "    def __init__(self, elements_array, size):\n",
    "        self.elements = {}\n",
    "        self.size = size\n",
    "        for i, value in elements_array:\n",
    "            self.elements[i] = value\n",
    "            \n",
    "    def __repr__(self):\n",
    "        return f'SparseVector(size={self.size}, elements={self.elements})'\n",
    "    \n",
    "    def scalar(self, other):\n",
    "        if self.size != other.size:\n",
    "            raise Exception('Размеры векторов не равны!')\n",
    "        scalar_product = 0\n",
    "        for i, value in self.elements.items():\n",
    "            if i in other.elements:\n",
    "                scalar_product += value * other.elements[i]\n",
    "        return scalar_product"
   ]
  },
  {
   "cell_type": "code",
   "execution_count": 12,
   "id": "c9d25e63",
   "metadata": {},
   "outputs": [
    {
     "ename": "Exception",
     "evalue": "Размеры векторов не равны!",
     "output_type": "error",
     "traceback": [
      "\u001b[0;31m---------------------------------------------------------------------------\u001b[0m",
      "\u001b[0;31mException\u001b[0m                                 Traceback (most recent call last)",
      "Cell \u001b[0;32mIn[12], line 13\u001b[0m\n\u001b[1;32m      1\u001b[0m a \u001b[38;5;241m=\u001b[39m SparseVector([\n\u001b[1;32m      2\u001b[0m     (\u001b[38;5;241m0\u001b[39m, \u001b[38;5;241m1\u001b[39m),\n\u001b[1;32m      3\u001b[0m     (\u001b[38;5;241m1\u001b[39m, \u001b[38;5;241m2\u001b[39m),\n\u001b[1;32m      4\u001b[0m     (\u001b[38;5;241m3\u001b[39m, \u001b[38;5;241m3\u001b[39m),\n\u001b[1;32m      5\u001b[0m ], size\u001b[38;5;241m=\u001b[39m\u001b[38;5;241m10000\u001b[39m)\n\u001b[1;32m      7\u001b[0m b \u001b[38;5;241m=\u001b[39m SparseVector([\n\u001b[1;32m      8\u001b[0m     (\u001b[38;5;241m10\u001b[39m, \u001b[38;5;241m4\u001b[39m),\n\u001b[1;32m      9\u001b[0m     (\u001b[38;5;241m11\u001b[39m, \u001b[38;5;241m5\u001b[39m),\n\u001b[1;32m     10\u001b[0m     (\u001b[38;5;241m13\u001b[39m, \u001b[38;5;241m6\u001b[39m),\n\u001b[1;32m     11\u001b[0m ], size\u001b[38;5;241m=\u001b[39m\u001b[38;5;241m1000\u001b[39m)\n\u001b[0;32m---> 13\u001b[0m \u001b[38;5;28mprint\u001b[39m(\u001b[43ma\u001b[49m\u001b[38;5;241;43m.\u001b[39;49m\u001b[43mscalar\u001b[49m\u001b[43m(\u001b[49m\u001b[43mb\u001b[49m\u001b[43m)\u001b[49m)\n",
      "Cell \u001b[0;32mIn[11], line 13\u001b[0m, in \u001b[0;36mSparseVector.scalar\u001b[0;34m(self, other)\u001b[0m\n\u001b[1;32m     11\u001b[0m \u001b[38;5;28;01mdef\u001b[39;00m \u001b[38;5;21mscalar\u001b[39m(\u001b[38;5;28mself\u001b[39m, other):\n\u001b[1;32m     12\u001b[0m     \u001b[38;5;28;01mif\u001b[39;00m \u001b[38;5;28mself\u001b[39m\u001b[38;5;241m.\u001b[39msize \u001b[38;5;241m!=\u001b[39m other\u001b[38;5;241m.\u001b[39msize:\n\u001b[0;32m---> 13\u001b[0m         \u001b[38;5;28;01mraise\u001b[39;00m \u001b[38;5;167;01mException\u001b[39;00m(\u001b[38;5;124m'\u001b[39m\u001b[38;5;124mРазмеры векторов не равны!\u001b[39m\u001b[38;5;124m'\u001b[39m)\n\u001b[1;32m     14\u001b[0m     scalar_product \u001b[38;5;241m=\u001b[39m \u001b[38;5;241m0\u001b[39m\n\u001b[1;32m     15\u001b[0m     \u001b[38;5;28;01mfor\u001b[39;00m i, value \u001b[38;5;129;01min\u001b[39;00m \u001b[38;5;28mself\u001b[39m\u001b[38;5;241m.\u001b[39melements\u001b[38;5;241m.\u001b[39mitems():\n",
      "\u001b[0;31mException\u001b[0m: Размеры векторов не равны!"
     ]
    }
   ],
   "source": [
    "a = SparseVector([\n",
    "    (0, 1),\n",
    "    (1, 2),\n",
    "    (3, 3),\n",
    "], size=10000)\n",
    "\n",
    "b = SparseVector([\n",
    "    (10, 4),\n",
    "    (11, 5),\n",
    "    (13, 6),\n",
    "], size=1000)\n",
    "\n",
    "print(a.scalar(b))"
   ]
  },
  {
   "cell_type": "code",
   "execution_count": null,
   "id": "1483d73a",
   "metadata": {},
   "outputs": [],
   "source": []
  }
 ],
 "metadata": {
  "kernelspec": {
   "display_name": "Python 3 (ipykernel)",
   "language": "python",
   "name": "python3"
  },
  "language_info": {
   "codemirror_mode": {
    "name": "ipython",
    "version": 3
   },
   "file_extension": ".py",
   "mimetype": "text/x-python",
   "name": "python",
   "nbconvert_exporter": "python",
   "pygments_lexer": "ipython3",
   "version": "3.8.10"
  }
 },
 "nbformat": 4,
 "nbformat_minor": 5
}
