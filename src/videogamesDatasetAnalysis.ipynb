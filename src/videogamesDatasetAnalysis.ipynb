{
 "cells": [
  {
   "cell_type": "markdown",
   "metadata": {},
   "source": [
    "## Описание колонок\n",
    "\n",
    "`Rank` - Общий рейтинг продаж\n",
    "\n",
    "`Name` - Название игры\n",
    "\n",
    "`Platform` - Платформа, на которой выпущена игра (например, PC, PS4 и т.д.)\n",
    "\n",
    "`Year` - Год выпуска игры\n",
    "\n",
    "`Genre` - Жанр игры\n",
    "\n",
    "`Publisher` - Издатель игры\n",
    "\n",
    "`NA_Sales` - Продажи в Северной Америке (в миллионах)\n",
    "\n",
    "`EU_Sales` - Продажи в Европе (в миллионах)\n",
    "\n",
    "`JP_Sales` - Продажи в Японии (в миллионах)\n",
    "\n",
    "`Other_Sales` - Продажи в остальном мире (в миллионах)\n",
    "\n",
    "`Global_Sales` - Общемировые продажи."
   ]
  },
  {
   "cell_type": "markdown",
   "metadata": {},
   "source": [
    "В Pandas есть две основные высокоуровневые структуры данных – DataFrame и Series.\n",
    "\n",
    "Series – это одномерная маркированная структура данных, состоящая из индексов и соответствующих значений. В качестве меток могут выступать числа, даты, временные интервалы и строки. Series можно рассматривать как упорядоченный словарь\n",
    "\n",
    "DataFrame – это двумерная табличная структура данных. DataFrame можно сравнить с таблицей в реляционной базе данных\n",
    "\n",
    "Pandas с нуля: https://pythonist.ru/polnoe-rukovodstvo-po-pandas-dlya-nachinayushhih/#series-and-dataframes"
   ]
  },
  {
   "cell_type": "code",
   "execution_count": 1,
   "metadata": {},
   "outputs": [
    {
     "data": {
      "text/html": [
       "<div>\n",
       "<style scoped>\n",
       "    .dataframe tbody tr th:only-of-type {\n",
       "        vertical-align: middle;\n",
       "    }\n",
       "\n",
       "    .dataframe tbody tr th {\n",
       "        vertical-align: top;\n",
       "    }\n",
       "\n",
       "    .dataframe thead th {\n",
       "        text-align: right;\n",
       "    }\n",
       "</style>\n",
       "<table border=\"1\" class=\"dataframe\">\n",
       "  <thead>\n",
       "    <tr style=\"text-align: right;\">\n",
       "      <th></th>\n",
       "      <th>Rank</th>\n",
       "      <th>Name</th>\n",
       "      <th>Platform</th>\n",
       "      <th>Year</th>\n",
       "      <th>Genre</th>\n",
       "      <th>Publisher</th>\n",
       "      <th>NA_Sales</th>\n",
       "      <th>EU_Sales</th>\n",
       "      <th>JP_Sales</th>\n",
       "      <th>Other_Sales</th>\n",
       "      <th>Global_Sales</th>\n",
       "    </tr>\n",
       "  </thead>\n",
       "  <tbody>\n",
       "    <tr>\n",
       "      <th>0</th>\n",
       "      <td>1</td>\n",
       "      <td>Wii Sports</td>\n",
       "      <td>Wii</td>\n",
       "      <td>2006.0</td>\n",
       "      <td>Sports</td>\n",
       "      <td>Nintendo</td>\n",
       "      <td>41.49</td>\n",
       "      <td>29.02</td>\n",
       "      <td>3.77</td>\n",
       "      <td>8.46</td>\n",
       "      <td>82.74</td>\n",
       "    </tr>\n",
       "    <tr>\n",
       "      <th>1</th>\n",
       "      <td>2</td>\n",
       "      <td>Super Mario Bros.</td>\n",
       "      <td>NES</td>\n",
       "      <td>1985.0</td>\n",
       "      <td>Platform</td>\n",
       "      <td>Nintendo</td>\n",
       "      <td>29.08</td>\n",
       "      <td>3.58</td>\n",
       "      <td>6.81</td>\n",
       "      <td>0.77</td>\n",
       "      <td>40.24</td>\n",
       "    </tr>\n",
       "    <tr>\n",
       "      <th>2</th>\n",
       "      <td>3</td>\n",
       "      <td>Mario Kart Wii</td>\n",
       "      <td>Wii</td>\n",
       "      <td>2008.0</td>\n",
       "      <td>Racing</td>\n",
       "      <td>Nintendo</td>\n",
       "      <td>15.85</td>\n",
       "      <td>12.88</td>\n",
       "      <td>3.79</td>\n",
       "      <td>3.31</td>\n",
       "      <td>35.82</td>\n",
       "    </tr>\n",
       "    <tr>\n",
       "      <th>3</th>\n",
       "      <td>4</td>\n",
       "      <td>Wii Sports Resort</td>\n",
       "      <td>Wii</td>\n",
       "      <td>2009.0</td>\n",
       "      <td>Sports</td>\n",
       "      <td>Nintendo</td>\n",
       "      <td>15.75</td>\n",
       "      <td>11.01</td>\n",
       "      <td>3.28</td>\n",
       "      <td>2.96</td>\n",
       "      <td>33.00</td>\n",
       "    </tr>\n",
       "    <tr>\n",
       "      <th>4</th>\n",
       "      <td>5</td>\n",
       "      <td>Pokemon Red/Pokemon Blue</td>\n",
       "      <td>GB</td>\n",
       "      <td>1996.0</td>\n",
       "      <td>Role-Playing</td>\n",
       "      <td>Nintendo</td>\n",
       "      <td>11.27</td>\n",
       "      <td>8.89</td>\n",
       "      <td>10.22</td>\n",
       "      <td>1.00</td>\n",
       "      <td>31.37</td>\n",
       "    </tr>\n",
       "  </tbody>\n",
       "</table>\n",
       "</div>"
      ],
      "text/plain": [
       "   Rank                      Name Platform    Year         Genre Publisher  \\\n",
       "0     1                Wii Sports      Wii  2006.0        Sports  Nintendo   \n",
       "1     2         Super Mario Bros.      NES  1985.0      Platform  Nintendo   \n",
       "2     3            Mario Kart Wii      Wii  2008.0        Racing  Nintendo   \n",
       "3     4         Wii Sports Resort      Wii  2009.0        Sports  Nintendo   \n",
       "4     5  Pokemon Red/Pokemon Blue       GB  1996.0  Role-Playing  Nintendo   \n",
       "\n",
       "   NA_Sales  EU_Sales  JP_Sales  Other_Sales  Global_Sales  \n",
       "0     41.49     29.02      3.77         8.46         82.74  \n",
       "1     29.08      3.58      6.81         0.77         40.24  \n",
       "2     15.85     12.88      3.79         3.31         35.82  \n",
       "3     15.75     11.01      3.28         2.96         33.00  \n",
       "4     11.27      8.89     10.22         1.00         31.37  "
      ]
     },
     "execution_count": 1,
     "metadata": {},
     "output_type": "execute_result"
    }
   ],
   "source": [
    "import pandas as pd\n",
    "\n",
    "# Загрузить Dataset, создать Data frame\n",
    "df = pd.read_csv('../resources/datasets/vgsales.csv')  # ваш код здесь\n",
    "\n",
    "# после того датасет корректно загрузился, можно посмотреть на данные глазами\n",
    "df.head()"
   ]
  },
  {
   "cell_type": "markdown",
   "metadata": {},
   "source": [
    "1. Количество уникальных игр в датасете"
   ]
  },
  {
   "cell_type": "code",
   "execution_count": 8,
   "metadata": {},
   "outputs": [
    {
     "name": "stdout",
     "output_type": "stream",
     "text": [
      "Count of unique games in dataset: 11493\n"
     ]
    }
   ],
   "source": [
    "# Вывод количества уникальных (по наименованию) игр\n",
    "print(f'Count of unique games in dataset: {len(df.Name.unique())}')\n"
   ]
  },
  {
   "cell_type": "markdown",
   "metadata": {},
   "source": [
    "2. Всего продано копий игр в Японии"
   ]
  },
  {
   "cell_type": "code",
   "execution_count": 12,
   "metadata": {},
   "outputs": [
    {
     "name": "stdout",
     "output_type": "stream",
     "text": [
      "Всего продано копий игр в Японии: 1291020000 шт\n"
     ]
    }
   ],
   "source": [
    "print(f'Всего продано копий игр в Японии: {int(df.JP_Sales.sum() * 1E6)} шт')"
   ]
  },
  {
   "cell_type": "markdown",
   "metadata": {},
   "source": [
    "3. Три самых популярнных жанра в Северной Америке"
   ]
  },
  {
   "cell_type": "code",
   "execution_count": 17,
   "metadata": {},
   "outputs": [
    {
     "name": "stdout",
     "output_type": "stream",
     "text": [
      "Top-3 most popular genres in North America: ['Sports', 'Platform', 'Shooter']\n"
     ]
    }
   ],
   "source": [
    "print(f'Top-3 most popular genres in North America: {list(df.sort_values(by='NA_Sales', ascending=False).head(3).Genre)}')"
   ]
  },
  {
   "cell_type": "markdown",
   "metadata": {},
   "source": [
    "4. Самая популярная платформа для выпуска игр:\n",
    "   - В 2000 году\n",
    "   - В 2015 году"
   ]
  },
  {
   "cell_type": "code",
   "execution_count": 3,
   "metadata": {},
   "outputs": [
    {
     "name": "stdout",
     "output_type": "stream",
     "text": [
      "Most popular game platform in 2000s: PS\n",
      "Most popular platform in 2015: PS4\n"
     ]
    }
   ],
   "source": [
    "df_copy = df.copy()\n",
    "# Сгруппировать по году + платформе. Просуммировать продажи игр, выпущенных в году X на платформе Y\n",
    "# Результат подсчета записать в столбец с наименованием GSales\n",
    "gdata = df_copy.groupby(by=['Year', 'Platform'])['Global_Sales'].sum().to_frame('GSales').reset_index()\n",
    "\n",
    "# Отфильтровать таблицу по значению в поле Year\n",
    "top_platform_2000 = gdata[gdata['Year'] == 2000.0]\n",
    "top_platform_2015 = gdata[gdata['Year'] == 2015.0]\n",
    "\n",
    "# top_platform_2000['GSales'].idxmax() возвращает индекс строки с максимальным значением в поле GSales (первое вхождение)\n",
    "# После чего от этой строки получить значение в поле Platform. Метод loc позволяет получить значение (строку) по индексу (грубо говоря id строки)\n",
    "top_platform_2000 = top_platform_2000.loc[top_platform_2000['GSales'].idxmax()].Platform\n",
    "top_platform_2015 = top_platform_2015.loc[top_platform_2015['GSales'].idxmax()].Platform\n",
    "\n",
    "print(f'Most popular game platform in 2000s: {top_platform_2000}')\n",
    "print(f'Most popular platform in 2015: {top_platform_2015}')\n",
    "# grouped_data"
   ]
  },
  {
   "cell_type": "markdown",
   "metadata": {},
   "source": [
    "5. Издатель, выпустивший наибольшее число игр в период с 2012 по 2015 годы"
   ]
  },
  {
   "cell_type": "code",
   "execution_count": 4,
   "metadata": {},
   "outputs": [
    {
     "name": "stdout",
     "output_type": "stream",
     "text": [
      "The publisher with the most games published in 2012-2015: Namco Bandai Games\n"
     ]
    }
   ],
   "source": [
    "# Фильтрация записей по периоду\n",
    "df_filtered = df_copy[(df_copy['Year'] >= 2012.0) & (df_copy['Year'] <= 2015.0)]\n",
    "# Подсчет количество раз, которое встречается каждый издатель в таблице и записать в поле Releases\n",
    "df_filtered = df_filtered['Publisher'].value_counts().to_frame('Releases').reset_index()\n",
    "# Вывод значения поля Publisher в самой первой строке, т.к. value_counts() упорядочивает значения по убыванию\n",
    "print(f'The publisher with the most games published in 2012-2015: {df_filtered['Publisher'].loc[0]}')"
   ]
  },
  {
   "cell_type": "markdown",
   "metadata": {},
   "source": [
    "6. Какой процент от общих продаж игр в жанре \"Спорт\" составляют продажи в Европе?"
   ]
  },
  {
   "cell_type": "code",
   "execution_count": 21,
   "metadata": {},
   "outputs": [
    {
     "name": "stdout",
     "output_type": "stream",
     "text": [
      "Local copies count (Europe) in Sports genre: 376.85\n",
      "Total copies count (Global Sales) in Sports genre: 1330.93\n",
      "Sports genre sale percent: 28.31%\n"
     ]
    }
   ],
   "source": [
    "# Количество копий игр в жанре \"Спорт\", проданных:\n",
    "# EU_Sales - в Европе, Global_Sales - по всему миру\n",
    "df_stats = df[df['Genre'] == 'Sports'][['EU_Sales', 'Global_Sales']].sum()\n",
    "svg_eu_sales = round(df_stats['EU_Sales'], 2)\n",
    "svg_gl_sales = round(df_stats['Global_Sales'], 2)\n",
    "\n",
    "print(f'Local copies count (Europe) in Sports genre: {svg_eu_sales}')\n",
    "print(f'Total copies count (Global Sales) in Sports genre: {svg_gl_sales}')\n",
    "print(f'Sports genre sale percent: {round((svg_eu_sales/svg_gl_sales)*100, 2)}%')"
   ]
  },
  {
   "cell_type": "markdown",
   "metadata": {},
   "source": [
    "6. (old) Какой процент от продаж в Европе составляют игры в жанре \"Спорт\""
   ]
  },
  {
   "cell_type": "code",
   "execution_count": 22,
   "metadata": {},
   "outputs": [
    {
     "name": "stdout",
     "output_type": "stream",
     "text": [
      "Sport copies count: 376.85\n",
      "Total copies count: 2434.13\n",
      "Sports genre sale percent: 15.48%\n"
     ]
    }
   ],
   "source": [
    "# Количество игр в жанре Спорт, проданных в Европе\n",
    "sport_games = round(df[(df['Genre'] == 'Sports')]['EU_Sales'].sum(), 2)\n",
    "\n",
    "# Общее количество игр, проданных в Европе (все жанры)\n",
    "all_games = round(df['EU_Sales'].sum(), 2)\n",
    "\n",
    "print(f'Sport copies count: {sport_games}')\n",
    "print(f'Total copies count: {all_games}')\n",
    "print(f'Sports genre sale percent: {round((sport_games/all_games)*100, 2)}%')"
   ]
  },
  {
   "cell_type": "code",
   "execution_count": null,
   "metadata": {},
   "outputs": [],
   "source": []
  }
 ],
 "metadata": {
  "kernelspec": {
   "display_name": "Python 3",
   "language": "python",
   "name": "python3"
  },
  "language_info": {
   "codemirror_mode": {
    "name": "ipython",
    "version": 3
   },
   "file_extension": ".py",
   "mimetype": "text/x-python",
   "name": "python",
   "nbconvert_exporter": "python",
   "pygments_lexer": "ipython3",
   "version": "3.12.4"
  }
 },
 "nbformat": 4,
 "nbformat_minor": 2
}
